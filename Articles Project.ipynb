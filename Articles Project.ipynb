{
 "cells": [
  {
   "cell_type": "markdown",
   "id": "3e2c5255-0945-491d-bfac-08f3ebf96d2b",
   "metadata": {},
   "source": [
    "## Articles Project: First Attempt at Pipeline"
   ]
  },
  {
   "cell_type": "markdown",
   "id": "2ca394f3-d21e-47c4-9243-33a8216361db",
   "metadata": {},
   "source": [
    "This is an annotated version of the ```dockingfile.py``` file. Most of the code doing the scraping, cleaning and loading is contained in the ```scraping_functions.py```, ```cleaning_functions.py``` and ```loading_functions``` modules. To look at the code and the notebook simultaneously **in Jupyter Lab**, I recommend selecting any function/module, right-clicking and then clicking on \"Show Contextual Help\". "
   ]
  },
  {
   "cell_type": "code",
   "execution_count": 1,
   "id": "7eea4407-fdd4-4ca7-bb41-91e853897790",
   "metadata": {},
   "outputs": [],
   "source": [
    "import os\n",
    "import pandas as pd\n",
    "\n",
    "os.chdir(\"/Users/margaritabozhinova/Desktop/ArticlesProject/Pipeline/\")"
   ]
  },
  {
   "cell_type": "markdown",
   "id": "7d33eb2e-2221-445f-8b35-bb3d57f150d6",
   "metadata": {},
   "source": [
    "#### Step 1: Scraping the articles"
   ]
  },
  {
   "cell_type": "markdown",
   "id": "444b6d62-d5c0-451e-bfed-24350f398ca5",
   "metadata": {},
   "source": [
    "The scraping functions include:\n",
    "* a ```get_links``` function that returns all the article elements that have \"article-card\" class in the link that's passed as an argument (here, the National Post's website)\n",
    "* functions that get the article IDs (```get_article_ids```) and article (```get_article_urls```) URLs from the article elements\n",
    "* a function that scrapes the text that can be found in the article URLs (```get_article_text```)"
   ]
  },
  {
   "cell_type": "code",
   "execution_count": 13,
   "id": "cc3c6d5a-a4c9-4efe-910e-4db2aff75781",
   "metadata": {},
   "outputs": [],
   "source": [
    "import scraping_functions\n",
    "\n",
    "elements = scraping_functions.get_links(\"https://nationalpost.com/\")\n",
    "\n",
    "ids = scraping_functions.get_article_ids(elements)\n",
    "\n",
    "urls = scraping_functions.get_article_urls(elements)\n",
    "\n",
    "articles_text = scraping_functions.get_article_text(urls)"
   ]
  },
  {
   "cell_type": "markdown",
   "id": "9a1b12fe-d215-4746-8d42-97905c9fc048",
   "metadata": {},
   "source": [
    "#### Step 2: Cleaning the text"
   ]
  },
  {
   "cell_type": "markdown",
   "id": "9aa28772-07e8-4e4e-82e9-65cd757972ca",
   "metadata": {},
   "source": [
    "The ```clean_article_text``` function is used to clean the article text. It carries out two steps: \n",
    "* use regex to remove any HTML code surrounding the text\n",
    "* remove common strings that are likely not article text (ex.: every article ends with a copyright statement and the National Post's address)\n",
    "\n",
    "The ```clean_article_text``` function returns a clean version of the articles_text list yielded by ```get_article_text```. "
   ]
  },
  {
   "cell_type": "code",
   "execution_count": 3,
   "id": "31c53e07-30c0-4677-b5e4-c54ee54262b7",
   "metadata": {},
   "outputs": [],
   "source": [
    "import cleaning_functions\n",
    "\n",
    "clean_text = cleaning_functions.clean_article_text(articles_text)\n",
    "\n",
    "article_df = pd.DataFrame(\n",
    "    list(zip(ids, urls, clean_text)), columns=[\"id\", \"url\", \"text\"]\n",
    ")"
   ]
  },
  {
   "cell_type": "markdown",
   "id": "c3fdc42a-bddb-47ff-9ebe-5ad7c8c418a7",
   "metadata": {},
   "source": [
    "Strings that appear with a frequency > 2 are removed from the article as a quick clean-up step that gets rid of repeating elements that are likely not article text. To get an idea of the types of strings that are removed, the ```check_common_str``` function produces a table of the strings with frequencies > 2. "
   ]
  },
  {
   "cell_type": "code",
   "execution_count": 12,
   "id": "4a9d837b-e4b5-4a5b-874e-96da1d6a59d4",
   "metadata": {},
   "outputs": [
    {
     "data": {
      "text/html": [
       "<div>\n",
       "<style scoped>\n",
       "    .dataframe tbody tr th:only-of-type {\n",
       "        vertical-align: middle;\n",
       "    }\n",
       "\n",
       "    .dataframe tbody tr th {\n",
       "        vertical-align: top;\n",
       "    }\n",
       "\n",
       "    .dataframe thead th {\n",
       "        text-align: right;\n",
       "    }\n",
       "</style>\n",
       "<table border=\"1\" class=\"dataframe\">\n",
       "  <thead>\n",
       "    <tr style=\"text-align: right;\">\n",
       "      <th></th>\n",
       "      <th>string</th>\n",
       "      <th>frequency</th>\n",
       "    </tr>\n",
       "  </thead>\n",
       "  <tbody>\n",
       "    <tr>\n",
       "      <th>0</th>\n",
       "      <td></td>\n",
       "      <td>10</td>\n",
       "    </tr>\n",
       "    <tr>\n",
       "      <th>1</th>\n",
       "      <td>© 2023 National Post, a division of Postmedia...</td>\n",
       "      <td>22</td>\n",
       "    </tr>\n",
       "    <tr>\n",
       "      <th>2</th>\n",
       "      <td>Ikigai</td>\n",
       "      <td>3</td>\n",
       "    </tr>\n",
       "    <tr>\n",
       "      <th>3</th>\n",
       "      <td>ADVERTISEMENT</td>\n",
       "      <td>18</td>\n",
       "    </tr>\n",
       "    <tr>\n",
       "      <th>4</th>\n",
       "      <td>Edit your picks to remove vehicles if you want...</td>\n",
       "      <td>5</td>\n",
       "    </tr>\n",
       "    <tr>\n",
       "      <th>5</th>\n",
       "      <td>© 2023 Driving, a division of Postmedia Netwo...</td>\n",
       "      <td>5</td>\n",
       "    </tr>\n",
       "    <tr>\n",
       "      <th>6</th>\n",
       "      <td></td>\n",
       "      <td>465</td>\n",
       "    </tr>\n",
       "    <tr>\n",
       "      <th>7</th>\n",
       "      <td>Don't have an account?  Create Account</td>\n",
       "      <td>22</td>\n",
       "    </tr>\n",
       "    <tr>\n",
       "      <th>8</th>\n",
       "      <td>© 2023 The GrowthOp, a division of Postmedia ...</td>\n",
       "      <td>3</td>\n",
       "    </tr>\n",
       "    <tr>\n",
       "      <th>9</th>\n",
       "      <td>365 Bloor Street East, Toronto, Ontario, M4W 3L4</td>\n",
       "      <td>33</td>\n",
       "    </tr>\n",
       "    <tr>\n",
       "      <th>10</th>\n",
       "      <td>You can only add up to 5 vehicles to your picks.</td>\n",
       "      <td>5</td>\n",
       "    </tr>\n",
       "    <tr>\n",
       "      <th>11</th>\n",
       "      <td>© 2023 Postmedia Network Inc. All rights reser...</td>\n",
       "      <td>3</td>\n",
       "    </tr>\n",
       "    <tr>\n",
       "      <th>12</th>\n",
       "      <td>Reviews and recommendations are unbiased and p...</td>\n",
       "      <td>10</td>\n",
       "    </tr>\n",
       "  </tbody>\n",
       "</table>\n",
       "</div>"
      ],
      "text/plain": [
       "                                               string  frequency\n",
       "0                                                             10\n",
       "1    © 2023 National Post, a division of Postmedia...         22\n",
       "2                                              Ikigai          3\n",
       "3                                       ADVERTISEMENT         18\n",
       "4   Edit your picks to remove vehicles if you want...          5\n",
       "5    © 2023 Driving, a division of Postmedia Netwo...          5\n",
       "6                                                            465\n",
       "7             Don't have an account?  Create Account          22\n",
       "8    © 2023 The GrowthOp, a division of Postmedia ...          3\n",
       "9    365 Bloor Street East, Toronto, Ontario, M4W 3L4         33\n",
       "10   You can only add up to 5 vehicles to your picks.          5\n",
       "11  © 2023 Postmedia Network Inc. All rights reser...          3\n",
       "12  Reviews and recommendations are unbiased and p...         10"
      ]
     },
     "execution_count": 12,
     "metadata": {},
     "output_type": "execute_result"
    }
   ],
   "source": [
    "cleaning_functions.check_common_str(articles_text)"
   ]
  },
  {
   "cell_type": "markdown",
   "id": "9dded273-0c70-464b-9c1c-c44e310cf99e",
   "metadata": {},
   "source": [
    "#### Step 3: Load into SQLite Database"
   ]
  },
  {
   "cell_type": "markdown",
   "id": "0f71ee22-1b53-4e49-89d2-a560fc6463ad",
   "metadata": {},
   "source": [
    "First, a SQLite database called dbfile.db and a 'natpostarticles' table within it are created if dbfile.db did not already exist. This is done using the ```create_table``` function. \n",
    "\n",
    "Then the extracted data (ids, urls and cleaned text) are loaded into the database using the ```load_data``` function."
   ]
  },
  {
   "cell_type": "code",
   "execution_count": 5,
   "id": "018e6974-8152-4bbd-8eed-9b3767cfc132",
   "metadata": {},
   "outputs": [],
   "source": [
    "import loading_functions\n",
    "\n",
    "dbfilepath = \"/Users/margaritabozhinova/Desktop/ArticlesProject/Database/dbfile.db\"\n",
    "\n",
    "if not os.path.isfile(dbfilepath):\n",
    "    loading_functions.create_table(dbfilepath)\n",
    "\n",
    "loading_functions.load_data(dbfilepath, article_df)"
   ]
  },
  {
   "cell_type": "markdown",
   "id": "928e72ad-d000-433b-bfed-d8fb8922ce2d",
   "metadata": {},
   "source": [
    "Quick check of what's in the SQLite Database by retrieving the first five observations. "
   ]
  },
  {
   "cell_type": "code",
   "execution_count": 14,
   "id": "a8a5ccf3-67af-43e2-8d4a-23ebe95fcdf2",
   "metadata": {},
   "outputs": [
    {
     "data": {
      "text/html": [
       "<div>\n",
       "<style scoped>\n",
       "    .dataframe tbody tr th:only-of-type {\n",
       "        vertical-align: middle;\n",
       "    }\n",
       "\n",
       "    .dataframe tbody tr th {\n",
       "        vertical-align: top;\n",
       "    }\n",
       "\n",
       "    .dataframe thead th {\n",
       "        text-align: right;\n",
       "    }\n",
       "</style>\n",
       "<table border=\"1\" class=\"dataframe\">\n",
       "  <thead>\n",
       "    <tr style=\"text-align: right;\">\n",
       "      <th></th>\n",
       "      <th>id</th>\n",
       "      <th>link</th>\n",
       "      <th>artxt</th>\n",
       "    </tr>\n",
       "  </thead>\n",
       "  <tbody>\n",
       "    <tr>\n",
       "      <th>0</th>\n",
       "      <td>91edfe48-6867-496e-99e8-57e536037779</td>\n",
       "      <td>https://nationalpost.com/opinion/barbara-kay-w...</td>\n",
       "      <td>Antisemitism in the United States is on the ri...</td>\n",
       "    </tr>\n",
       "    <tr>\n",
       "      <th>1</th>\n",
       "      <td>d219a338-06dc-45de-b12b-355d2d3d39e6</td>\n",
       "      <td>https://nationalpost.com/news/canada/tiktok-sp...</td>\n",
       "      <td>OTTAWA — The Broadbent Institute is keeping Ti...</td>\n",
       "    </tr>\n",
       "    <tr>\n",
       "      <th>2</th>\n",
       "      <td>d660cdc5-bb61-4dbf-8dd3-00bc5f352fe6</td>\n",
       "      <td>https://nationalpost.com/news/tiktok-could-be-...</td>\n",
       "      <td>Two U.S. senators plan to introduce legislatio...</td>\n",
       "    </tr>\n",
       "    <tr>\n",
       "      <th>3</th>\n",
       "      <td>11547b50-e681-441c-9266-331496c7d3dd</td>\n",
       "      <td>https://nationalpost.com/news/weekend-posted-w...</td>\n",
       "      <td>Here’s your Weekend Posted. A bit of fine news...</td>\n",
       "    </tr>\n",
       "    <tr>\n",
       "      <th>4</th>\n",
       "      <td>dcabbb65-1311-4379-87c6-886335226b6d</td>\n",
       "      <td>https://nationalpost.com/news/canada/canadian-...</td>\n",
       "      <td>TORONTO — Geraldine “Geri” Smith, a long-time ...</td>\n",
       "    </tr>\n",
       "  </tbody>\n",
       "</table>\n",
       "</div>"
      ],
      "text/plain": [
       "                                     id  \\\n",
       "0  91edfe48-6867-496e-99e8-57e536037779   \n",
       "1  d219a338-06dc-45de-b12b-355d2d3d39e6   \n",
       "2  d660cdc5-bb61-4dbf-8dd3-00bc5f352fe6   \n",
       "3  11547b50-e681-441c-9266-331496c7d3dd   \n",
       "4  dcabbb65-1311-4379-87c6-886335226b6d   \n",
       "\n",
       "                                                link  \\\n",
       "0  https://nationalpost.com/opinion/barbara-kay-w...   \n",
       "1  https://nationalpost.com/news/canada/tiktok-sp...   \n",
       "2  https://nationalpost.com/news/tiktok-could-be-...   \n",
       "3  https://nationalpost.com/news/weekend-posted-w...   \n",
       "4  https://nationalpost.com/news/canada/canadian-...   \n",
       "\n",
       "                                               artxt  \n",
       "0  Antisemitism in the United States is on the ri...  \n",
       "1  OTTAWA — The Broadbent Institute is keeping Ti...  \n",
       "2  Two U.S. senators plan to introduce legislatio...  \n",
       "3  Here’s your Weekend Posted. A bit of fine news...  \n",
       "4  TORONTO — Geraldine “Geri” Smith, a long-time ...  "
      ]
     },
     "execution_count": 14,
     "metadata": {},
     "output_type": "execute_result"
    }
   ],
   "source": [
    "import sqlite3 \n",
    "\n",
    "conn = sqlite3.connect(dbfilepath)\n",
    "\n",
    "articles_head = pd.read_sql(\"select * from natpostarticles LIMIT 5;\", conn)\n",
    "\n",
    "conn.close()\n",
    "\n",
    "articles_head"
   ]
  }
 ],
 "metadata": {
  "kernelspec": {
   "display_name": "Python 3 (ipykernel)",
   "language": "python",
   "name": "python3"
  },
  "language_info": {
   "codemirror_mode": {
    "name": "ipython",
    "version": 3
   },
   "file_extension": ".py",
   "mimetype": "text/x-python",
   "name": "python",
   "nbconvert_exporter": "python",
   "pygments_lexer": "ipython3",
   "version": "3.8.16"
  }
 },
 "nbformat": 4,
 "nbformat_minor": 5
}
